{
  "nbformat": 4,
  "nbformat_minor": 0,
  "metadata": {
    "colab": {
      "provenance": []
    },
    "kernelspec": {
      "name": "python3",
      "display_name": "Python 3"
    }
  },
  "cells": [
    {
      "cell_type": "markdown",
      "metadata": {
        "id": "F2cCUUgEuhKm"
      },
      "source": [
        "# Lesson 73: Logistic Regression - Univariate Classification II"
      ]
    },
    {
      "cell_type": "markdown",
      "metadata": {
        "id": "ze9uSJt-I-0E"
      },
      "source": [
        "### Teacher-Student Activities\n",
        "\n",
        "In this class, you  will learn a concept called the **sigmoid** function that is used by logistic regression to perform classification."
      ]
    },
    {
      "cell_type": "markdown",
      "metadata": {
        "id": "p8T9SB9W3kuR"
      },
      "source": [
        "----"
      ]
    },
    {
      "cell_type": "markdown",
      "metadata": {
        "id": "uE7EERr3iUsQ"
      },
      "source": [
        "### Recap"
      ]
    },
    {
      "cell_type": "code",
      "metadata": {
        "id": "x-ljB0Zr87CT",
        "colab": {
          "base_uri": "https://localhost:8080/",
          "height": 387
        },
        "outputId": "99959238-dc0e-49bc-fed1-303a235cd6df"
      },
      "source": [
        "# Import the required modules and load the heart disease dataset.\n",
        "import numpy as np\n",
        "import pandas as pd\n",
        "import matplotlib.pyplot as plt\n",
        "import seaborn as sns\n",
        "\n",
        "csv_file = 'https://s3-student-datasets-bucket.whjr.online/whitehat-ds-datasets/uci-heart-disease/heart.csv'\n",
        "df = pd.read_csv(csv_file)\n",
        "\n",
        "# Print the number of records with and without heart disease.\n",
        "print(\"Number of records in each label are\")\n",
        "print(df['target'].value_counts())\n",
        "\n",
        "# Print the percentage of each label\n",
        "print(\"\\nPercentage of records in each label are\")\n",
        "print(df['target'].value_counts() * 100 / df.shape[0], \"\\n\")\n",
        "\n",
        "# Print the first five rows of Dataframe.\n",
        "df.head()"
      ],
      "execution_count": null,
      "outputs": [
        {
          "output_type": "stream",
          "name": "stdout",
          "text": [
            "Number of records in each label are\n",
            "1    165\n",
            "0    138\n",
            "Name: target, dtype: int64\n",
            "\n",
            "Percentage of records in each label are\n",
            "1    54.455446\n",
            "0    45.544554\n",
            "Name: target, dtype: float64 \n",
            "\n"
          ]
        },
        {
          "output_type": "execute_result",
          "data": {
            "text/html": [
              "\n",
              "  <div id=\"df-e2cc1d31-284f-4eee-b93f-edd9d49eaab6\">\n",
              "    <div class=\"colab-df-container\">\n",
              "      <div>\n",
              "<style scoped>\n",
              "    .dataframe tbody tr th:only-of-type {\n",
              "        vertical-align: middle;\n",
              "    }\n",
              "\n",
              "    .dataframe tbody tr th {\n",
              "        vertical-align: top;\n",
              "    }\n",
              "\n",
              "    .dataframe thead th {\n",
              "        text-align: right;\n",
              "    }\n",
              "</style>\n",
              "<table border=\"1\" class=\"dataframe\">\n",
              "  <thead>\n",
              "    <tr style=\"text-align: right;\">\n",
              "      <th></th>\n",
              "      <th>age</th>\n",
              "      <th>sex</th>\n",
              "      <th>cp</th>\n",
              "      <th>trestbps</th>\n",
              "      <th>chol</th>\n",
              "      <th>fbs</th>\n",
              "      <th>restecg</th>\n",
              "      <th>thalach</th>\n",
              "      <th>exang</th>\n",
              "      <th>oldpeak</th>\n",
              "      <th>slope</th>\n",
              "      <th>ca</th>\n",
              "      <th>thal</th>\n",
              "      <th>target</th>\n",
              "    </tr>\n",
              "  </thead>\n",
              "  <tbody>\n",
              "    <tr>\n",
              "      <th>0</th>\n",
              "      <td>63</td>\n",
              "      <td>1</td>\n",
              "      <td>3</td>\n",
              "      <td>145</td>\n",
              "      <td>233</td>\n",
              "      <td>1</td>\n",
              "      <td>0</td>\n",
              "      <td>150</td>\n",
              "      <td>0</td>\n",
              "      <td>2.3</td>\n",
              "      <td>0</td>\n",
              "      <td>0</td>\n",
              "      <td>1</td>\n",
              "      <td>1</td>\n",
              "    </tr>\n",
              "    <tr>\n",
              "      <th>1</th>\n",
              "      <td>37</td>\n",
              "      <td>1</td>\n",
              "      <td>2</td>\n",
              "      <td>130</td>\n",
              "      <td>250</td>\n",
              "      <td>0</td>\n",
              "      <td>1</td>\n",
              "      <td>187</td>\n",
              "      <td>0</td>\n",
              "      <td>3.5</td>\n",
              "      <td>0</td>\n",
              "      <td>0</td>\n",
              "      <td>2</td>\n",
              "      <td>1</td>\n",
              "    </tr>\n",
              "    <tr>\n",
              "      <th>2</th>\n",
              "      <td>41</td>\n",
              "      <td>0</td>\n",
              "      <td>1</td>\n",
              "      <td>130</td>\n",
              "      <td>204</td>\n",
              "      <td>0</td>\n",
              "      <td>0</td>\n",
              "      <td>172</td>\n",
              "      <td>0</td>\n",
              "      <td>1.4</td>\n",
              "      <td>2</td>\n",
              "      <td>0</td>\n",
              "      <td>2</td>\n",
              "      <td>1</td>\n",
              "    </tr>\n",
              "    <tr>\n",
              "      <th>3</th>\n",
              "      <td>56</td>\n",
              "      <td>1</td>\n",
              "      <td>1</td>\n",
              "      <td>120</td>\n",
              "      <td>236</td>\n",
              "      <td>0</td>\n",
              "      <td>1</td>\n",
              "      <td>178</td>\n",
              "      <td>0</td>\n",
              "      <td>0.8</td>\n",
              "      <td>2</td>\n",
              "      <td>0</td>\n",
              "      <td>2</td>\n",
              "      <td>1</td>\n",
              "    </tr>\n",
              "    <tr>\n",
              "      <th>4</th>\n",
              "      <td>57</td>\n",
              "      <td>0</td>\n",
              "      <td>0</td>\n",
              "      <td>120</td>\n",
              "      <td>354</td>\n",
              "      <td>0</td>\n",
              "      <td>1</td>\n",
              "      <td>163</td>\n",
              "      <td>1</td>\n",
              "      <td>0.6</td>\n",
              "      <td>2</td>\n",
              "      <td>0</td>\n",
              "      <td>2</td>\n",
              "      <td>1</td>\n",
              "    </tr>\n",
              "  </tbody>\n",
              "</table>\n",
              "</div>\n",
              "      <button class=\"colab-df-convert\" onclick=\"convertToInteractive('df-e2cc1d31-284f-4eee-b93f-edd9d49eaab6')\"\n",
              "              title=\"Convert this dataframe to an interactive table.\"\n",
              "              style=\"display:none;\">\n",
              "        \n",
              "  <svg xmlns=\"http://www.w3.org/2000/svg\" height=\"24px\"viewBox=\"0 0 24 24\"\n",
              "       width=\"24px\">\n",
              "    <path d=\"M0 0h24v24H0V0z\" fill=\"none\"/>\n",
              "    <path d=\"M18.56 5.44l.94 2.06.94-2.06 2.06-.94-2.06-.94-.94-2.06-.94 2.06-2.06.94zm-11 1L8.5 8.5l.94-2.06 2.06-.94-2.06-.94L8.5 2.5l-.94 2.06-2.06.94zm10 10l.94 2.06.94-2.06 2.06-.94-2.06-.94-.94-2.06-.94 2.06-2.06.94z\"/><path d=\"M17.41 7.96l-1.37-1.37c-.4-.4-.92-.59-1.43-.59-.52 0-1.04.2-1.43.59L10.3 9.45l-7.72 7.72c-.78.78-.78 2.05 0 2.83L4 21.41c.39.39.9.59 1.41.59.51 0 1.02-.2 1.41-.59l7.78-7.78 2.81-2.81c.8-.78.8-2.07 0-2.86zM5.41 20L4 18.59l7.72-7.72 1.47 1.35L5.41 20z\"/>\n",
              "  </svg>\n",
              "      </button>\n",
              "      \n",
              "  <style>\n",
              "    .colab-df-container {\n",
              "      display:flex;\n",
              "      flex-wrap:wrap;\n",
              "      gap: 12px;\n",
              "    }\n",
              "\n",
              "    .colab-df-convert {\n",
              "      background-color: #E8F0FE;\n",
              "      border: none;\n",
              "      border-radius: 50%;\n",
              "      cursor: pointer;\n",
              "      display: none;\n",
              "      fill: #1967D2;\n",
              "      height: 32px;\n",
              "      padding: 0 0 0 0;\n",
              "      width: 32px;\n",
              "    }\n",
              "\n",
              "    .colab-df-convert:hover {\n",
              "      background-color: #E2EBFA;\n",
              "      box-shadow: 0px 1px 2px rgba(60, 64, 67, 0.3), 0px 1px 3px 1px rgba(60, 64, 67, 0.15);\n",
              "      fill: #174EA6;\n",
              "    }\n",
              "\n",
              "    [theme=dark] .colab-df-convert {\n",
              "      background-color: #3B4455;\n",
              "      fill: #D2E3FC;\n",
              "    }\n",
              "\n",
              "    [theme=dark] .colab-df-convert:hover {\n",
              "      background-color: #434B5C;\n",
              "      box-shadow: 0px 1px 3px 1px rgba(0, 0, 0, 0.15);\n",
              "      filter: drop-shadow(0px 1px 2px rgba(0, 0, 0, 0.3));\n",
              "      fill: #FFFFFF;\n",
              "    }\n",
              "  </style>\n",
              "\n",
              "      <script>\n",
              "        const buttonEl =\n",
              "          document.querySelector('#df-e2cc1d31-284f-4eee-b93f-edd9d49eaab6 button.colab-df-convert');\n",
              "        buttonEl.style.display =\n",
              "          google.colab.kernel.accessAllowed ? 'block' : 'none';\n",
              "\n",
              "        async function convertToInteractive(key) {\n",
              "          const element = document.querySelector('#df-e2cc1d31-284f-4eee-b93f-edd9d49eaab6');\n",
              "          const dataTable =\n",
              "            await google.colab.kernel.invokeFunction('convertToInteractive',\n",
              "                                                     [key], {});\n",
              "          if (!dataTable) return;\n",
              "\n",
              "          const docLinkHtml = 'Like what you see? Visit the ' +\n",
              "            '<a target=\"_blank\" href=https://colab.research.google.com/notebooks/data_table.ipynb>data table notebook</a>'\n",
              "            + ' to learn more about interactive tables.';\n",
              "          element.innerHTML = '';\n",
              "          dataTable['output_type'] = 'display_data';\n",
              "          await google.colab.output.renderOutput(dataTable, element);\n",
              "          const docLink = document.createElement('div');\n",
              "          docLink.innerHTML = docLinkHtml;\n",
              "          element.appendChild(docLink);\n",
              "        }\n",
              "      </script>\n",
              "    </div>\n",
              "  </div>\n",
              "  "
            ],
            "text/plain": [
              "   age  sex  cp  trestbps  chol  fbs  ...  exang  oldpeak  slope  ca  thal  target\n",
              "0   63    1   3       145   233    1  ...      0      2.3      0   0     1       1\n",
              "1   37    1   2       130   250    0  ...      0      3.5      0   0     2       1\n",
              "2   41    0   1       130   204    0  ...      0      1.4      2   0     2       1\n",
              "3   56    1   1       120   236    0  ...      0      0.8      2   0     2       1\n",
              "4   57    0   0       120   354    0  ...      1      0.6      2   0     2       1\n",
              "\n",
              "[5 rows x 14 columns]"
            ]
          },
          "metadata": {},
          "execution_count": 14
        }
      ]
    },
    {
      "cell_type": "markdown",
      "metadata": {
        "id": "qw5HuSy1OWf1"
      },
      "source": [
        "-----"
      ]
    },
    {
      "cell_type": "markdown",
      "metadata": {
        "id": "HO30ZL7_mTXu"
      },
      "source": [
        "#### Activity 1: Sigmoid Function\n",
        "\n",
        "The sigmoid function, in maths, classifies any data point between **0** and **1**. The graph of a sigmoid function follows the shape of English letter **S**. Mathematically, the sigmoid function is given as\n",
        "\n",
        "$$y =  \\frac{1}{1 + e^{-x}}$$\n",
        "\n",
        "where,  \n",
        "\n",
        "- $y$ is the output of the sigmoid function\n",
        "\n",
        "- $x$ is an independent variable\n",
        "\n",
        "- $e$ is Euler's constant\n",
        " \n",
        "The $x$ takes all the values between $- \\infty$ to $\\infty$ i.e., $x \\in (-\\infty, \\infty)$ and the $y$ ranges between $0$ to $1$ i.e., $y \\in (0, 1)$.\n",
        "\n",
        "**Q: What is so great about sigmoid function in machine learning?** \n",
        "\n",
        "The sigmoid function in the context of machine learning returns the probability of occurrence of an event. As you know, the probability of an event ranges between 0 and 1. So does the output of the sigmoid function. Hence, usage of sigmoid function to calculate probabilities to classify outcomes (say 0 and 1) seems like a natural fit.\n",
        "\n",
        "Before we go deep into the sigmoid function, let's create a function in Python and name it `sigmoid()` that takes a series/array as an input and returns a numeric output.\n"
      ]
    },
    {
      "cell_type": "code",
      "metadata": {
        "id": "Lp0hj9SZiIAa"
      },
      "source": [
        "# S1.1: Create a sigmoid function using the above formula.\n",
        "def sigmoid(x):\n",
        "  return pd.Series(1/(1+np.exp(-x)))\n",
        "  "
      ],
      "execution_count": null,
      "outputs": []
    },
    {
      "cell_type": "markdown",
      "metadata": {
        "id": "Q_B6tCWkOZ6P"
      },
      "source": [
        "Now that you have the sigmoid function, you can calculate the probabilities of a few random integers between -10 and 10 and plot the output on a scatter plot with the corresponding input to see the shape of the curve."
      ]
    },
    {
      "cell_type": "code",
      "metadata": {
        "id": "G5GSRu-pjZwg",
        "colab": {
          "base_uri": "https://localhost:8080/"
        },
        "outputId": "731b568f-41ee-47d7-858d-d100635061e1"
      },
      "source": [
        "# S1.2: Create a numpy array having 100 random integers between -10 and 10. Pass the array as an input to the 'sigmoid()' function.\n",
        "a = np.random.randint(-10,11,100)\n",
        "a1 = sigmoid(a)\n",
        "print(a,a1)"
      ],
      "execution_count": null,
      "outputs": [
        {
          "output_type": "stream",
          "name": "stdout",
          "text": [
            "[ -8  -2   3   2   6  -3  -6  -9   6  -2  -4  -1 -10   9   1  -6  -7   4\n",
            "  -3  -1   3   7   2   2   8   2  -8   7   1   8  -3  -6   3  -9  -4   1\n",
            "   6  -1   3  -3  -5  -3  -1  -6   9   5   9   7  10  -8  -2   9  -5   1\n",
            "  -6  -1  -9 -10  -2   7  -2  -7  -7  -9  -2  -2 -10  -6   6   0   1  -7\n",
            "  -1  10  -9   8  -6  -1   2  -1   7  -8   1  -4 -10  -6   5   3   7   8\n",
            "   6   4  -7   2   6   6  -9   6  -4   9] 0     0.000335\n",
            "1     0.119203\n",
            "2     0.952574\n",
            "3     0.880797\n",
            "4     0.997527\n",
            "        ...   \n",
            "95    0.997527\n",
            "96    0.000123\n",
            "97    0.997527\n",
            "98    0.017986\n",
            "99    0.999877\n",
            "Length: 100, dtype: float64\n"
          ]
        }
      ]
    },
    {
      "cell_type": "markdown",
      "metadata": {
        "id": "lKA7I_ltj2nr"
      },
      "source": [
        "As you can see, the sigmoid function output is in the range of 0 to 1.\n",
        "\n",
        "Let's create a scatter plot between the random integers and their corresponding sigmoid function output to check the shape of the curve."
      ]
    },
    {
      "cell_type": "code",
      "metadata": {
        "id": "8CkVXsLGkBUc",
        "colab": {
          "base_uri": "https://localhost:8080/",
          "height": 265
        },
        "outputId": "566af180-6482-4b41-c03e-afa9c3ffa1c6"
      },
      "source": [
        "# S1.3: Create a scatter plot for output array for the sigmoid function\n",
        "plt.scatter(a,a1)\n",
        "plt.grid()\n",
        "plt.show()"
      ],
      "execution_count": null,
      "outputs": [
        {
          "output_type": "display_data",
          "data": {
            "image/png": "[encoded data removed]",
            "text/plain": [
              "<Figure size 432x288 with 1 Axes>"
            ]
          },
          "metadata": {
            "needs_background": "light"
          }
        }
      ]
    },
    {
      "cell_type": "markdown",
      "metadata": {
        "id": "v60RyyD8lN_A"
      },
      "source": [
        "As you can see, the arrangement of the points appears to form a shape of the English letter 'S'. \n",
        "\n",
        "**Important Observations**\n",
        "\n",
        "- *Observation 1:* If $x = 0$, then the output of the sigmoid function is $y = 0.5$ because\n",
        "\n",
        "  $$y = \\frac{1}{1 + e^{0}} = \\frac{1}{1 + 1} = \\frac{1}{2} = 0.5$$\n",
        "\n",
        "  Similarly, if $x = -1$, then the output of the sigmoid function is $y < 0.5$ because\n",
        "\n",
        "  $$y = \\frac{1}{1 + e^{1}} = \\frac{1}{1 + 2.71} = \\frac{1}{3.71} < 0.5$$\n",
        "\n",
        "  And, if $x = 1$, then the output of the sigmoid function is $y > 0.5$ because\n",
        "\n",
        "  $$y = \\frac{1}{1 + e^{-1}} = \\frac{e}{e + 1} = \\frac{2.71}{3.71} = 0.73 > 0.5$$\n",
        "\n",
        "- *Observation 2:* From the curve, you can also see that as the values on the $x$-axis increase, the values on the $y$-axis also increase. So you can say that **the sigmoid curve is continuously increasing**.\n",
        "\n",
        "Based on the above two observations, you can say that the input values to the sigmoid function should be both negative and positive. Hence, before building a univariate logistic regression model, first inspect the polarity (i.e. sign) of values of the independent variable. If all the values are non-negative, then use the standard scaler method to normalise values so that you get a few negative values as well in the independent variable."
      ]
    },
    {
      "cell_type": "markdown",
      "metadata": {
        "id": "TetpyTkL8te7"
      },
      "source": [
        "---"
      ]
    },
    {
      "cell_type": "markdown",
      "metadata": {
        "id": "iOy3ckaFKgZd"
      },
      "source": [
        "#### Activity 2: Classification Criteria in Logistic Regression\n",
        "\n",
        "To classify an outcome as either **yes** or **no** (1 or 0), you need to randomly assign a probability value as the **threshold value**. Let's say the threshold probability value is $0.5$. If for any input value, the corresponding sigmoid function output is \n",
        "- less than 0.5, then you can label that outcome as 0 or **no**\n",
        "- else, you can label that outcome as 1 or **yes**.\n",
        "\n",
        "Let's create a function called `predict()` in Python that takes the output of the `sigmoid()` function and returns a Pandas series containing 0s and 1s as the output."
      ]
    },
    {
      "cell_type": "code",
      "metadata": {
        "id": "8jP5VnNCqv0y"
      },
      "source": [
        "# S2.1: Create the 'predict()' function as described above.\n",
        "def predict(so,t):\n",
        "  return pd.Series([1 if i >=t else 0 for i in so])\n"
      ],
      "execution_count": null,
      "outputs": []
    },
    {
      "cell_type": "markdown",
      "metadata": {
        "id": "kRccBz4WyVyC"
      },
      "source": [
        "In the above code,\n",
        "\n",
        "- we iterate through each item of the `sigmoid_output` series, \n",
        "\n",
        "- compare each item with the threshold value,\n",
        "\n",
        "- if the item is is greater than or equals to 0.5, we add `1` to a Python list, else add `0` to it,\n",
        "\n",
        "- convert the Python list to a Pandas series using the `pd.Series()` function,\n",
        "\n",
        "- return the Pandas series created\n",
        "\n",
        "Now let's use the `predict()` function to classify the `sigmoid()` function outputs as 0 and 1."
      ]
    },
    {
      "cell_type": "code",
      "metadata": {
        "id": "UnPmYQaFEk4v",
        "colab": {
          "base_uri": "https://localhost:8080/"
        },
        "outputId": "45074b66-c07d-42ca-bef1-5f1a7a955522"
      },
      "source": [
        "# S2.2: Use the 'predict()' function to classify the 'sigmoid()' function outputs as 0 and 1.\n",
        "predict(a1,0.5)"
      ],
      "execution_count": null,
      "outputs": [
        {
          "output_type": "execute_result",
          "data": {
            "text/plain": [
              "0     0\n",
              "1     0\n",
              "2     1\n",
              "3     1\n",
              "4     1\n",
              "     ..\n",
              "95    1\n",
              "96    0\n",
              "97    1\n",
              "98    0\n",
              "99    1\n",
              "Length: 100, dtype: int64"
            ]
          },
          "metadata": {},
          "execution_count": 19
        }
      ]
    },
    {
      "cell_type": "markdown",
      "metadata": {
        "id": "zR7SVwUZFFnv"
      },
      "source": [
        "Let's create a scatter plot between the random integers and their corresponding binary labels (i.e. 0 and 1)."
      ]
    },
    {
      "cell_type": "code",
      "metadata": {
        "id": "2gB-u_kHFELR",
        "colab": {
          "base_uri": "https://localhost:8080/",
          "height": 265
        },
        "outputId": "abf4efc5-0c4a-49f8-a63c-86c7e82ef35b"
      },
      "source": [
        "# S2.3: Create a scatter plot between the random integers and their corresponding binary labels (i.e. 0 and 1).\n",
        "plt.scatter(a,predict(a1,0.5))\n",
        "plt.grid()\n",
        "plt.show()"
      ],
      "execution_count": null,
      "outputs": [
        {
          "output_type": "display_data",
          "data": {
            "image/png": "[encoded data removed]",
            "text/plain": [
              "<Figure size 432x288 with 1 Axes>"
            ]
          },
          "metadata": {
            "needs_background": "light"
          }
        }
      ]
    },
    {
      "cell_type": "markdown",
      "metadata": {
        "id": "1gaKaIwJTsc0"
      },
      "source": [
        "With different threshold values, you will get different classifications but the most optimal threshold value is that value which classifies most sigmoid function outputs correctly as 0 and 1.\n",
        "\n",
        "Let's consider five different threshold probability values and classify the sigmoid function outputs as 0 and 1 based on them. Let's also create their scatter plots."
      ]
    },
    {
      "cell_type": "code",
      "metadata": {
        "id": "Z6EB9UBamLXr",
        "colab": {
          "base_uri": "https://localhost:8080/",
          "height": 1000
        },
        "outputId": "cf5a2c5e-3b76-426b-f72c-26ea8f2bd606"
      },
      "source": [
        "# S2.4: Consider 5 different threshold probability values and classify the sigmoid function outputs as 0 and 1 based on them. \n",
        "# Also create their scatter plots.\n",
        "t = np.linspace(0.1,0.9,5)\n",
        "p = [[i,list(predict(a1,i))] for i in t]\n",
        "for i in range(len(p)):\n",
        "  plt.scatter(a,p[i][1])\n",
        "  plt.grid()\n",
        "  plt.axhline(y=p[i][0],label=p[i][0])\n",
        "  plt.legend()\n",
        "  plt.show()\n"
      ],
      "execution_count": null,
      "outputs": [
        {
          "output_type": "display_data",
          "data": {
            "image/png": "[encoded data removed]",
            "text/plain": [
              "<Figure size 432x288 with 1 Axes>"
            ]
          },
          "metadata": {
            "needs_background": "light"
          }
        },
        {
          "output_type": "display_data",
          "data": {
            "image/png": "[encoded data removed]",
            "text/plain": [
              "<Figure size 432x288 with 1 Axes>"
            ]
          },
          "metadata": {
            "needs_background": "light"
          }
        },
        {
          "output_type": "display_data",
          "data": {
            "image/png": "[encoded data removed]",
            "text/plain": [
              "<Figure size 432x288 with 1 Axes>"
            ]
          },
          "metadata": {
            "needs_background": "light"
          }
        },
        {
          "output_type": "display_data",
          "data": {
            "image/png": "[encoded data removed]",
            "text/plain": [
              "<Figure size 432x288 with 1 Axes>"
            ]
          },
          "metadata": {
            "needs_background": "light"
          }
        },
        {
          "output_type": "display_data",
          "data": {
            "image/png": "[encoded data removed]",
            "text/plain": [
              "<Figure size 432x288 with 1 Axes>"
            ]
          },
          "metadata": {
            "needs_background": "light"
          }
        }
      ]
    },
    {
      "cell_type": "markdown",
      "metadata": {
        "id": "_UUe1ZOjGelk"
      },
      "source": [
        "Now let's apply the same logic to classify the heart disease patients as 0 and 1 based on their cholesterol levels. But before that let's check the range of values in the `chol` column."
      ]
    },
    {
      "cell_type": "code",
      "metadata": {
        "id": "1pmRMY-f_vVc",
        "colab": {
          "base_uri": "https://localhost:8080/",
          "height": 265
        },
        "outputId": "1d8062ae-8e58-4534-8c25-731cbb31eb90"
      },
      "source": [
        "# S2.5: Get the descriptive statistics for the 'chol' column.\n",
        "df['chol'].describe()\n",
        "plt.hist(df['chol'],bins='sturges')\n",
        "plt.show()"
      ],
      "execution_count": null,
      "outputs": [
        {
          "output_type": "display_data",
          "data": {
            "image/png": "[encoded data removed]",
            "text/plain": [
              "<Figure size 432x288 with 1 Axes>"
            ]
          },
          "metadata": {
            "needs_background": "light"
          }
        }
      ]
    },
    {
      "cell_type": "markdown",
      "metadata": {
        "id": "AJcKkR0lAhNK"
      },
      "source": [
        "As you can see, all the values in the cholesterol column are non-negative. Let's first normalise them by calculating their $Z$-scores (or standard scaler). "
      ]
    },
    {
      "cell_type": "code",
      "metadata": {
        "id": "evSbSoiEAzRm",
        "colab": {
          "base_uri": "https://localhost:8080/"
        },
        "outputId": "f0efee8a-9a93-4a41-fc8f-248924c07761"
      },
      "source": [
        "# S2.6: Normalise the 'chol' column values using the standard scaler method.\n",
        "def ss(s):\n",
        "  return ((s-s.mean())/s.std())\n",
        "cholestrol = ss(df['chol'])\n",
        "cholestrol.describe()"
      ],
      "execution_count": null,
      "outputs": [
        {
          "output_type": "execute_result",
          "data": {
            "text/plain": [
              "count    3.030000e+02\n",
              "mean    -8.839647e-17\n",
              "std      1.000000e+00\n",
              "min     -2.320322e+00\n",
              "25%     -6.803688e-01\n",
              "50%     -1.208554e-01\n",
              "75%      5.447726e-01\n",
              "max      6.130260e+00\n",
              "Name: chol, dtype: float64"
            ]
          },
          "metadata": {},
          "execution_count": 36
        }
      ]
    },
    {
      "cell_type": "code",
      "metadata": {
        "id": "A1nKD8jq1qBj",
        "colab": {
          "base_uri": "https://localhost:8080/"
        },
        "outputId": "95d03160-4c67-4538-9f90-4b6bdc8e92ef"
      },
      "source": [
        "# S2.7: Calculate the sigmoid output for both the scaled (or normalised) and non-scaled cholesterol values.\n",
        "scaled = sigmoid(cholestrol)\n",
        "nscaled = sigmoid(df['chol'])\n",
        "print(scaled.describe(),nscaled.describe())"
      ],
      "execution_count": null,
      "outputs": [
        {
          "output_type": "stream",
          "name": "stdout",
          "text": [
            "count    303.000000\n",
            "mean       0.492837\n",
            "std        0.198175\n",
            "min        0.089454\n",
            "25%        0.336179\n",
            "50%        0.469823\n",
            "75%        0.632919\n",
            "max        0.997829\n",
            "Name: chol, dtype: float64 count    303.0\n",
            "mean       1.0\n",
            "std        0.0\n",
            "min        1.0\n",
            "25%        1.0\n",
            "50%        1.0\n",
            "75%        1.0\n",
            "max        1.0\n",
            "Name: chol, dtype: float64\n"
          ]
        }
      ]
    },
    {
      "cell_type": "markdown",
      "metadata": {
        "id": "iNhYkQIUEUgD"
      },
      "source": [
        "As you can see, all the probabilities (sigmoid outputs) for the non-scaled cholesterol values are 1 whereas they range between 0 and 1 for the scaled `chol` values.\n",
        "\n",
        "Now for different thresholds between 0 and 1, let's classify whether a patient has heart disease or not based on the scaled cholesterol values.\n",
        "\n"
      ]
    },
    {
      "cell_type": "code",
      "metadata": {
        "id": "t5G8OGnnE6f5",
        "colab": {
          "base_uri": "https://localhost:8080/",
          "height": 1000
        },
        "outputId": "f294bc50-61c0-47ba-e1d1-67f8770a91f6"
      },
      "source": [
        "# S2.8: Consider 5 different threshold probability values and classify the sigmoid function outputs as 0 and 1 based on them. \n",
        "# Also create their scatter plots.\n",
        "t = np.linspace(0.1,0.9,5)\n",
        "p = [[i,predict(scaled,i)] for i in t]\n",
        "for i in range(len(p)):\n",
        "  plt.scatter(cholestrol,p[i][1])\n",
        "  plt.grid()\n",
        "  plt.axhline(y=p[i][0],label=p[i][0])\n",
        "  plt.legend()\n",
        "  plt.show()\n"
      ],
      "execution_count": null,
      "outputs": [
        {
          "output_type": "display_data",
          "data": {
            "image/png": "[encoded data removed]",
            "text/plain": [
              "<Figure size 432x288 with 1 Axes>"
            ]
          },
          "metadata": {
            "needs_background": "light"
          }
        },
        {
          "output_type": "display_data",
          "data": {
            "image/png": "[encoded data removed]",
            "text/plain": [
              "<Figure size 432x288 with 1 Axes>"
            ]
          },
          "metadata": {
            "needs_background": "light"
          }
        },
        {
          "output_type": "display_data",
          "data": {
            "image/png": "[encoded data removed]",
            "text/plain": [
              "<Figure size 432x288 with 1 Axes>"
            ]
          },
          "metadata": {
            "needs_background": "light"
          }
        },
        {
          "output_type": "display_data",
          "data": {
            "image/png": "[encoded data removed]",
            "text/plain": [
              "<Figure size 432x288 with 1 Axes>"
            ]
          },
          "metadata": {
            "needs_background": "light"
          }
        },
        {
          "output_type": "display_data",
          "data": {
            "image/png": "[encoded data removed]",
            "text/plain": [
              "<Figure size 432x288 with 1 Axes>"
            ]
          },
          "metadata": {
            "needs_background": "light"
          }
        }
      ]
    },
    {
      "cell_type": "markdown",
      "metadata": {
        "id": "Pvx4eJmLu-ta"
      },
      "source": [
        "Now let's find out the number of 1s and 0s classified by the `predict()` function w.r.t. the threshold of 0.5."
      ]
    },
    {
      "cell_type": "code",
      "metadata": {
        "id": "k3e85L9ISNRL",
        "colab": {
          "base_uri": "https://localhost:8080/"
        },
        "outputId": "ca6af7f8-7206-4296-8ae9-106b0f798bd9"
      },
      "source": [
        "# S2.9: Find out the number of 1s and 0s classified by the 'predict()' function for a threshold of 0.5.\n",
        "print(predict(scaled,0.5).value_counts())\n",
        "print(df['target'].value_counts())"
      ],
      "execution_count": null,
      "outputs": [
        {
          "output_type": "stream",
          "name": "stdout",
          "text": [
            "0    167\n",
            "1    136\n",
            "dtype: int64\n",
            "1    165\n",
            "0    138\n",
            "Name: target, dtype: int64\n"
          ]
        }
      ]
    },
    {
      "cell_type": "markdown",
      "metadata": {
        "id": "YU-_F-1Ovbxv"
      },
      "source": [
        "As you can see the number of values classified as 0 and 1 is almost the same as the number of actual 0s and 1s in the dataset. \n",
        "\n",
        "However, are the predicted 0s  correctly classified as 0s and the predicted 1s  correctly classified as 1s? \n",
        "\n",
        "Let's find out by creating a confusion matrix."
      ]
    },
    {
      "cell_type": "code",
      "metadata": {
        "id": "qC1UHVtCsFLQ",
        "colab": {
          "base_uri": "https://localhost:8080/"
        },
        "outputId": "68037b15-e7ef-4a75-b03e-777fffb8cc75"
      },
      "source": [
        "# S2.10: Create a confusion matrix for the predicted values.\n",
        "from sklearn.metrics import confusion_matrix,classification_report\n",
        "print(confusion_matrix(df['target'],predict(scaled,0.5)))\n",
        "print(classification_report(df['target'],predict(scaled,0.5)))"
      ],
      "execution_count": null,
      "outputs": [
        {
          "output_type": "stream",
          "name": "stdout",
          "text": [
            "[[ 65  73]\n",
            " [102  63]]\n",
            "              precision    recall  f1-score   support\n",
            "\n",
            "           0       0.39      0.47      0.43       138\n",
            "           1       0.46      0.38      0.42       165\n",
            "\n",
            "    accuracy                           0.42       303\n",
            "   macro avg       0.43      0.43      0.42       303\n",
            "weighted avg       0.43      0.42      0.42       303\n",
            "\n"
          ]
        }
      ]
    },
    {
      "cell_type": "markdown",
      "metadata": {
        "id": "pI5_jyvGwkdu"
      },
      "source": [
        "There are a lot of false positives and false negatives in the predicted values. Let's print the f1-scores."
      ]
    },
    {
      "cell_type": "code",
      "metadata": {
        "id": "gf9wAus0wer8"
      },
      "source": [
        "# S2.11: Print the f1-scores for the predicted values.\n"
      ],
      "execution_count": null,
      "outputs": []
    },
    {
      "cell_type": "markdown",
      "metadata": {
        "id": "c8gCtw1tzR1z"
      },
      "source": [
        "The f1-scores are also lower. Hence, clearly, the cholesterol values alone cannot  accurately predict whether a person has heart disease or not. You need to consider more features to build a logistic regression model for this purpose.\n",
        "\n",
        "Let's stop here. In the next class, we will create a linear function using with one of the features in the dataset and pass it as an input to the sigmoid function."
      ]
    },
    {
      "cell_type": "markdown",
      "metadata": {
        "id": "xU23oaNKzqRK"
      },
      "source": [
        "---"
      ]
    }
  ]
}